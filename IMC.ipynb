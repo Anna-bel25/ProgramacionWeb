{
  "nbformat": 4,
  "nbformat_minor": 0,
  "metadata": {
    "colab": {
      "name": "IMC",
      "provenance": [],
      "include_colab_link": true
    },
    "kernelspec": {
      "name": "python3",
      "display_name": "Python 3"
    },
    "language_info": {
      "name": "python"
    }
  },
  "cells": [
    {
      "cell_type": "markdown",
      "metadata": {
        "id": "view-in-github",
        "colab_type": "text"
      },
      "source": [
        "<a href=\"https://colab.research.google.com/github/Anna-bel25/programacionWeb/blob/main/IMC.ipynb\" target=\"_parent\"><img src=\"https://colab.research.google.com/assets/colab-badge.svg\" alt=\"Open In Colab\"/></a>"
      ]
    },
    {
      "cell_type": "markdown",
      "source": [
        "\n",
        "\n",
        "```\n",
        "# Esto tiene formato de código\n",
        "```\n",
        "\n",
        "# Cálculo del indice de masa corporal"
      ],
      "metadata": {
        "id": "5fNaZLTtoZTC"
      }
    },
    {
      "cell_type": "code",
      "execution_count": 4,
      "metadata": {
        "colab": {
          "base_uri": "https://localhost:8080/"
        },
        "id": "aT8q8TERoU_7",
        "outputId": "05701874-1d11-4261-d0e5-2b9a7b9cefff"
      },
      "outputs": [
        {
          "output_type": "stream",
          "name": "stdout",
          "text": [
            "22.10028959000152\n"
          ]
        }
      ],
      "source": [
        "#@Cálculo del IMC\n",
        "estatura = 1.62 #@param {type:\"number\"}\n",
        "peso = 58 #@param {type:\"number\"}\n",
        "imc = peso/estatura**2\n",
        "print(imc)"
      ]
    }
  ]
}